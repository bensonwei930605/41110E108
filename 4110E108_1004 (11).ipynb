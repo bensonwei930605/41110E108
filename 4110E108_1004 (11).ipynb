{
  "nbformat": 4,
  "nbformat_minor": 0,
  "metadata": {
    "colab": {
      "provenance": []
    },
    "kernelspec": {
      "name": "python3",
      "display_name": "Python 3"
    },
    "language_info": {
      "name": "python"
    }
  },
  "cells": [
    {
      "cell_type": "code",
      "execution_count": 19,
      "metadata": {
        "colab": {
          "base_uri": "https://localhost:8080/"
        },
        "id": "DLrsZFA-m9pr",
        "outputId": "f0f26034-84d5-4f4b-bdd4-478dd02375cf"
      },
      "outputs": [
        {
          "output_type": "stream",
          "name": "stdout",
          "text": [
            "4111001671\n",
            "I want 3 pieces of item number 567 for 49.00 dollars.\n"
          ]
        }
      ],
      "source": [
        "print(\"4111001671\")\n",
        "quantity = 3\n",
        "itemno = 567\n",
        "price = 49\n",
        "myorder = \"I want {0} pieces of item number {1} for {2:.2f} dollars.\"\n",
        "print(myorder.format(quantity, itemno, price))"
      ]
    }
  ]
}